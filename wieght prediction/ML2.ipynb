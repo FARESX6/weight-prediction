{
  "nbformat": 4,
  "nbformat_minor": 0,
  "metadata": {
    "colab": {
      "name": "ML2.ipynb",
      "provenance": []
    },
    "kernelspec": {
      "name": "python3",
      "display_name": "Python 3"
    },
    "language_info": {
      "name": "python"
    }
  },
  "cells": [
    {
      "cell_type": "markdown",
      "source": [
        "Load data"
      ],
      "metadata": {
        "id": "X4vmvluQAk8k"
      }
    },
    {
      "cell_type": "code",
      "execution_count": null,
      "metadata": {
        "id": "gMFKyqKV-xG0"
      },
      "outputs": [],
      "source": [
        "import pandas as pd\n",
        "dataset = pd.read_csv(\"weight-height.csv\")"
      ]
    },
    {
      "cell_type": "code",
      "source": [
        "dataset.info()\n",
        "dataset.describe()\n",
        "dataset.isnull().sum()"
      ],
      "metadata": {
        "id": "f1S_anl8Ay5x"
      },
      "execution_count": null,
      "outputs": []
    },
    {
      "cell_type": "markdown",
      "source": [
        " Convert Gender to number "
      ],
      "metadata": {
        "id": "qh3xdnFNBJ_h"
      }
    },
    {
      "cell_type": "code",
      "source": [
        "X = dataset.iloc[:, :-1].values\n",
        "y = dataset.iloc[:, 2].values\n",
        "from sklearn.preprocessing import LabelEncoder\n",
        "labelEncoder_gender =  LabelEncoder()\n",
        "X[:,0] = labelEncoder_gender.fit_transform(X[:,0])\n"
      ],
      "metadata": {
        "id": "QFzrhcK7BK0n"
      },
      "execution_count": null,
      "outputs": []
    },
    {
      "cell_type": "markdown",
      "source": [
        "split data"
      ],
      "metadata": {
        "id": "2TjeQMOiB6fO"
      }
    },
    {
      "cell_type": "code",
      "source": [
        "from sklearn.model_selection import train_test_split\n",
        "X_train, X_test, y_train, y_test = train_test_split(X, y, test_size=0.2, random_state=0)"
      ],
      "metadata": {
        "id": "nl1W9geiB4TG"
      },
      "execution_count": null,
      "outputs": []
    },
    {
      "cell_type": "markdown",
      "source": [
        "Fit Regression Model"
      ],
      "metadata": {
        "id": "LMN8YnbUCKLI"
      }
    },
    {
      "cell_type": "code",
      "source": [
        "from sklearn.linear_model import LinearRegression\n",
        "lin_reg = LinearRegression()\n",
        "lin_reg.fit(X_train, y_train)"
      ],
      "metadata": {
        "colab": {
          "base_uri": "https://localhost:8080/"
        },
        "id": "lEDj6PYOCLgP",
        "outputId": "cbc63ed3-7ec9-4a01-a891-5e98c5547c2a"
      },
      "execution_count": null,
      "outputs": [
        {
          "output_type": "execute_result",
          "data": {
            "text/plain": [
              "LinearRegression()"
            ]
          },
          "metadata": {},
          "execution_count": 9
        }
      ]
    },
    {
      "cell_type": "markdown",
      "source": [
        "Make Prediction using test data"
      ],
      "metadata": {
        "id": "A043R0whCXmv"
      }
    },
    {
      "cell_type": "code",
      "source": [
        "lin_pred = lin_reg.predict(X_test)"
      ],
      "metadata": {
        "id": "lljJgNt4CYb7"
      },
      "execution_count": null,
      "outputs": []
    },
    {
      "cell_type": "markdown",
      "source": [
        "Model Accuracy"
      ],
      "metadata": {
        "id": "ZKMId9NVCbro"
      }
    },
    {
      "cell_type": "code",
      "source": [
        "from sklearn import metrics\n",
        "print('R square = ',metrics.r2_score(y_test, lin_pred))\n",
        "print('Mean squared Error = ',metrics.mean_squared_error(y_test, lin_pred))"
      ],
      "metadata": {
        "id": "WnjZ0n7nCh9h",
        "colab": {
          "base_uri": "https://localhost:8080/"
        },
        "outputId": "6613a2f5-b23f-430f-cfe5-4e7e65f3bcbc"
      },
      "execution_count": 14,
      "outputs": [
        {
          "output_type": "stream",
          "name": "stdout",
          "text": [
            "R square =  0.9052889824534557\n",
            "Mean squared Error =  97.87152220196164\n"
          ]
        }
      ]
    },
    {
      "cell_type": "markdown",
      "source": [
        "Predict wieght"
      ],
      "metadata": {
        "id": "oIDh2HPSDRVj"
      }
    },
    {
      "cell_type": "code",
      "source": [
        "my_weight_pred = lin_reg.predict([[0,68]])\n",
        "print(my_weight_pred)"
      ],
      "metadata": {
        "colab": {
          "base_uri": "https://localhost:8080/"
        },
        "id": "XSclHYyTDUHN",
        "outputId": "03f4a1b3-a5c1-4356-8d4c-c6ca03bea5b9"
      },
      "execution_count": 24,
      "outputs": [
        {
          "output_type": "stream",
          "name": "stdout",
          "text": [
            "[161.47253325]\n"
          ]
        }
      ]
    }
  ]
}